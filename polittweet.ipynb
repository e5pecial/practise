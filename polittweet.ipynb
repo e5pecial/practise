{
 "cells": [
  {
   "cell_type": "markdown",
   "metadata": {},
   "source": [
    "# Практика. Анализ твиттеров трёх кандидатов в Госдуму 2016"
   ]
  },
  {
   "cell_type": "markdown",
   "metadata": {},
   "source": [
    " *\"There are three kinds of lies: lies, damned lies, and statistics.\"*\n",
    "                                                                     \n",
    "                                                                    the British Prime Minister Benjamin Disraeli"
   ]
  },
  {
   "cell_type": "markdown",
   "metadata": {},
   "source": [
    "## Предыстория \n",
    "Весной, в рамкой курсовой работы по веб-приложениям, разрабатывался \"сервис для сентимент-анализа\" *слишком грмокое название*, однако, что результаты он выдавал в основном нейтральные -- была предпринята попытка предсказания по трём классам.\n",
    "\n",
    "С точки зрения безопасности *за свою задницу* это было довольно неплохо, потому что целью анализа предполагались полтики и прочие публичные люди. Преподаватель по веб-приложениям рассказывал, что когда-то от администрации поступала просьба сделать подобный сервис для анализа мнений о текущих политиках или, к примеру, о кандидатах в депутаты/мэры/президенты/etc.\n",
    "\n",
    "Несмотря на удивительные реакции от преподавателя, я с течением времени понимал, что сервис мягко говоря:\n",
    "  * довольно простой\n",
    "  * анализирует тональность, скажем, плохо\n",
    "  * совсем плохо\n"
   ]
  },
  {
   "cell_type": "markdown",
   "metadata": {},
   "source": [
    "## Практика\n",
    "\n",
    "Вернемся к практике. Так как в \"задании на практику\" у меня написана разработка приложения по анализу твиттера, то я решил не отрываться от темы, т.к. она мне до сих пор очень интересна, и продолжить.\n",
    "\n",
    "Я уже понял, что полноценный сентимент-анализатор для русского языка довольно радужная и далекая мечта для серьезных специалистов по Data Science, а мне-то точно до качественной реализации еще далековато.\n",
    "\n",
    "Во-первых, я еще весной понял, что определять интерес к свердловскому губернатору, да даже к Ройзману из твиттера это максимально бесполезно. Если Ройзман еще хотя бы публичный человек, его упоминают не только в сводках новостей, он общается с публикой, то кто-такой Куйвашев или еще какой-нибудь местный депутат всем пофиг, их знает полтора человека и даже боты их не обсуждают.\n",
    "\n",
    "Поэтому анализ местных политических \"знаменитостей\" я отложил в долгий ящик. Они -- пустые места или едва яркие точки на огромном небе российского медиа пространства.\n",
    "\n",
    "Итак, я взял **трёх молодых кандидатов**, довольно популярных в медиа-пространстве, а самое главное -- они сами ведут свои твиттеры, общаются, вообщем, активные медиа-персонажи\n",
    "\n",
    "Этими кандидатами оказались:\n",
    "  * Мария Баронова\n",
    "  * Дмитрий Гудков\n",
    "  * Мария Катасонова\n",
    "  \n",
    "Персонажи довольно противоречивые и разные, поэтому я решил, что будет интересно посмотреть, а как они все себя ведут во время предвыборной гонки.\n",
    "\n",
    "Я взял их твиты с мая 2016 года, также взял немного мнений о них, так как я не сразу узнал. что твиттер хранит записи лишь за последние 7-10 дней, (а иногда и меньше). Но получив несколько срезов я убедился, что нужно либо организовывать качественую выгрузку с чисткой твитов *(и не из глобального поиска, а как-то иначе)* потому что приходит много мусора и твитов от ботов, что не дает объективной оценки мнений и ситуации."
   ]
  },
  {
   "cell_type": "code",
   "execution_count": 2,
   "metadata": {
    "collapsed": true
   },
   "outputs": [],
   "source": [
    "import json\n",
    "import csv\n",
    "import pandas as pd\n",
    "import numpy as np\n",
    "import matplotlib.pyplot as plt\n",
    "%matplotlib inline\n",
    "\n",
    "#Для LDA/LSA\n",
    "from gensim.models import ldamodel\n",
    "from gensim import corpora\n",
    "from nltk.tokenize import RegexpTokenizer\n",
    "from stop_words import get_stop_words\n",
    "from nltk.stem.porter import PorterStemmer\n",
    "from nltk.stem.snowball import RussianStemmer\n",
    "import re\n",
    "import time\n",
    "import datetime\n",
    "from gensim.models import lsimodel"
   ]
  },
  {
   "cell_type": "markdown",
   "metadata": {},
   "source": [
    "### Получаем твит, который собрал больше всего ретвитов за время исследования:"
   ]
  },
  {
   "cell_type": "code",
   "execution_count": 8,
   "metadata": {
    "collapsed": true
   },
   "outputs": [],
   "source": [
    "nonspace = re.compile(r'\\S')\n",
    "def iterparse(j):\n",
    "    decoder = json.JSONDecoder()\n",
    "    pos = 0\n",
    "    while True:\n",
    "        matched = nonspace.search(j, pos)\n",
    "        if not matched:\n",
    "            break\n",
    "        pos = matched.start()\n",
    "        decoded, pos = decoder.raw_decode(j, pos)\n",
    "        yield decoded"
   ]
  },
  {
   "cell_type": "code",
   "execution_count": 9,
   "metadata": {
    "collapsed": false
   },
   "outputs": [],
   "source": [
    "def get_max_rt(person):\n",
    "    ret_person = []\n",
    "    file = open(str(person) + str('_twitter.txt'), 'r')\n",
    "    rawdata = file.read()\n",
    "    for decoded in iterparse(rawdata):\n",
    "    #     print(decoded['created_at'])\n",
    "    #     if decoded['user']['screen_name'] != 'realDonaldTrump':\n",
    "    #         ret_katas.append(decoded['retweet_count'])\n",
    "    #         print(decoded['retweet_count'])\n",
    "    #     else:\n",
    "    #         continue\n",
    "    #     if decoded['retweet_count'] == 2:\n",
    "    #     if decoded['entities']['user_mentions'][0]['screen_name'] in locals():\n",
    "    #         print(decoded['entities']['user_mentions'][0]['screen_name'])\n",
    "    #     print(decoded['entities']['user_mentions'])\n",
    "\n",
    "    #  уже рабочий кусок:\n",
    "        if decoded['entities']['user_mentions'] == []:\n",
    "    #         print(decoded['retweet_count'])\n",
    "            ret_person.append(decoded['retweet_count'])\n",
    "    #  ###########################################################\n",
    "    for decoded in iterparse(rawdata):\n",
    "        if decoded['retweet_count'] == max(ret_person):\n",
    "            return decoded['text'], max(ret_person), decoded['created_at']"
   ]
  },
  {
   "cell_type": "code",
   "execution_count": 10,
   "metadata": {
    "collapsed": false
   },
   "outputs": [
    {
     "data": {
      "text/plain": [
       "('В нынешней Думе было 102 развода против 7 в предыдущей. Коллеги переписывают имущество на жен. Главное, чтобы скрепы не пострадали. #ДГ',\n",
       " 552,\n",
       " 'Wed Jun 08 14:54:33 +0000 2016')"
      ]
     },
     "execution_count": 10,
     "metadata": {},
     "output_type": "execute_result"
    }
   ],
   "source": [
    "get_max_rt('gudkov')"
   ]
  },
  {
   "cell_type": "code",
   "execution_count": 35,
   "metadata": {
    "collapsed": false
   },
   "outputs": [
    {
     "data": {
      "text/plain": [
       "('Сходила к московской Соборной Мечети. Режьте баранов, а н женщин \\n\\nhttps://t.co/4ECfNoZj78 https://t.co/0ILAEg1HId',\n",
       " 183,\n",
       " 'Wed Aug 17 14:23:01 +0000 2016')"
      ]
     },
     "execution_count": 35,
     "metadata": {},
     "output_type": "execute_result"
    }
   ],
   "source": [
    "get_max_rt('baronova')"
   ]
  },
  {
   "cell_type": "code",
   "execution_count": 36,
   "metadata": {
    "collapsed": false
   },
   "outputs": [
    {
     "data": {
      "text/plain": [
       "('Новогоднюю ночь 2015 Джамала провела,развлекая посетителей ресторана в Розе Хутор\\n\\nПеремога грозит обернуться зрадой https://t.co/Ndj6kumMaq',\n",
       " 601,\n",
       " 'Sun May 15 10:37:41 +0000 2016')"
      ]
     },
     "execution_count": 36,
     "metadata": {},
     "output_type": "execute_result"
    }
   ],
   "source": [
    "get_max_rt('katasonova')"
   ]
  },
  {
   "cell_type": "markdown",
   "metadata": {
    "collapsed": true
   },
   "source": [
    "### Твиты, которые больше всего раз добавили в избранное/поставили лайк:"
   ]
  },
  {
   "cell_type": "code",
   "execution_count": 11,
   "metadata": {
    "collapsed": false
   },
   "outputs": [],
   "source": [
    "def get_max_fav(corpus):\n",
    "    corpus_list = []\n",
    "    file = open(str(corpus) + '_twitter.txt', 'r')\n",
    "    rawdata = file.read()\n",
    "    for decoded in iterparse(rawdata):\n",
    "        corpus_list.append(decoded['favorite_count'])\n",
    "    for decoded in iterparse(rawdata):\n",
    "        if decoded['favorite_count'] == max(corpus_list):\n",
    "            return decoded['text'], max(corpus_list), decoded['created_at']"
   ]
  },
  {
   "cell_type": "code",
   "execution_count": 12,
   "metadata": {
    "collapsed": false
   },
   "outputs": [
    {
     "data": {
      "text/plain": [
       "('Пробуем новые форматы. Вместе с Дмитрием будем отвечать на ваши вопросы, заданные с хэштегом #ВопросГудкову https://t.co/vBwJchu7Km',\n",
       " 530,\n",
       " 'Tue Aug 16 13:44:07 +0000 2016')"
      ]
     },
     "execution_count": 12,
     "metadata": {},
     "output_type": "execute_result"
    }
   ],
   "source": [
    "get_max_fav('gudkov')"
   ]
  },
  {
   "cell_type": "code",
   "execution_count": 37,
   "metadata": {
    "collapsed": false
   },
   "outputs": [
    {
     "data": {
      "text/plain": [
       "('Сходила к московской Соборной Мечети. Режьте баранов, а н женщин \\n\\nhttps://t.co/4ECfNoZj78 https://t.co/0ILAEg1HId',\n",
       " 233,\n",
       " 'Wed Aug 17 14:23:01 +0000 2016')"
      ]
     },
     "execution_count": 37,
     "metadata": {},
     "output_type": "execute_result"
    }
   ],
   "source": [
    "get_max_fav('baronova')"
   ]
  },
  {
   "cell_type": "code",
   "execution_count": 38,
   "metadata": {
    "collapsed": false
   },
   "outputs": [
    {
     "data": {
      "text/plain": [
       "('С Днём Рождения надежду Франции - прекрасную Марин Ле Пен!\\nПобедного ей 2017 года! https://t.co/eKPI6yGwJq',\n",
       " 360,\n",
       " 'Fri Aug 05 09:07:12 +0000 2016')"
      ]
     },
     "execution_count": 38,
     "metadata": {},
     "output_type": "execute_result"
    }
   ],
   "source": [
    "get_max_fav('katasonova')"
   ]
  },
  {
   "cell_type": "markdown",
   "metadata": {},
   "source": [
    "### Определение устройства, с которого отправили твит:\n",
    "Опционально"
   ]
  },
  {
   "cell_type": "code",
   "execution_count": 14,
   "metadata": {
    "collapsed": false
   },
   "outputs": [],
   "source": [
    "# file = open('katasonova_twitter.txt', 'r')\n",
    "# rawdata = file.read()\n",
    "# for decoded in iterparse(rawdata):\n",
    "#     print(decoded['source'])\n",
    "    "
   ]
  },
  {
   "cell_type": "markdown",
   "metadata": {},
   "source": [
    "Попробую распарсить на LDA тексты твитов, предварительно почистив их от всякого символьного говна"
   ]
  },
  {
   "cell_type": "code",
   "execution_count": 56,
   "metadata": {
    "collapsed": false
   },
   "outputs": [],
   "source": [
    "katasonova_text = []\n",
    "file = open('katasonova_twitter.txt', 'r')\n",
    "rawdata = file.read()\n",
    "for decoded in iterparse(rawdata):\n",
    "    katasonova_text.append(decoded['text'])"
   ]
  },
  {
   "cell_type": "code",
   "execution_count": 16,
   "metadata": {
    "collapsed": true
   },
   "outputs": [],
   "source": [
    "def prepare_lda(corp,t):\n",
    "    i = 0\n",
    "    texts = []\n",
    "    doc_set = list(corp)\n",
    "    tokenizer = RegexpTokenizer(r'\\w+')\n",
    "    stemmer = RussianStemmer()\n",
    "    stop = get_stop_words('russian')\n",
    "    stop_eng = get_stop_words('english')\n",
    "    for i in doc_set:\n",
    "        i = re.sub(r'[^\\w\\s]+|[\\d]+', r'',i).strip()\n",
    "        raw = i.lower()\n",
    "        tokens = tokenizer.tokenize(raw)\n",
    "        stopped_tokens = [i for i in tokens if not i in stop]\n",
    "        stopped_tokens = [j for j in stopped_tokens if not j in stop_eng]\n",
    "        stemmed_tokens = [stemmer.stem(i) for i in stopped_tokens]\n",
    "        texts.append(stemmed_tokens)\n",
    "    dictionary = corpora.Dictionary(texts)\n",
    "    corpus = [dictionary.doc2bow(text) for text in texts]\n",
    "#     ldamod= ldamodel.LdaModel(corpus, num_topics=t, id2word = dictionary, passes=20)\n",
    "    lsimod = lsimodel.LsiModel(corpus, num_topics=t, id2word = dictionary)\n",
    "    return lsimod.show_topics()\n",
    "\n",
    "#     texts.append(stemmed_tokens)"
   ]
  },
  {
   "cell_type": "code",
   "execution_count": 20,
   "metadata": {
    "collapsed": false
   },
   "outputs": [],
   "source": [
    "def prepare(text):\n",
    "    text = text.lower()\n",
    "    # remove URLs\n",
    "    text = re.sub(\n",
    "        r'(?i)\\b((?:https?://|www\\d{0,3}[.]|[a-z0-9.\\-]+[.][a-z]{2,4}/)(?:[^\\s()<>]+|\\(([^\\s()<>]+|(\\([^\\s()<>]+\\)))*\\))+(?:\\(([^\\s()<>]+|(\\([^\\s()<>]+\\)))*\\)|[^\\s`!()\\[\\]{};:\\'\".,<>?«»“”‘’]))',\n",
    "        '', text)\n",
    "    text = re.sub(r\"[\\)]+\", ')', text)  # for :))))) smiles, lots of them\n",
    "    text = re.sub(r\"[\\(]+\", '(', text)  # same for :((\n",
    "    z = lambda x: re.compile('\\#').sub('', re.compile('rt @').sub('@', x, count=1).strip())\n",
    "    text = z(text)\n",
    "    text = re.sub(r'@[A-Za-z0-9]+', '', text)\n",
    "    text = re.sub(r'_[A-Za-z0-9]+', '', text)\n",
    "    text = re.sub(r'https', '', text)\n",
    "    return text"
   ]
  },
  {
   "cell_type": "code",
   "execution_count": 159,
   "metadata": {
    "collapsed": false
   },
   "outputs": [],
   "source": [
    "_prepared_katasonova = []\n",
    "for tweet in range(len(katasonova_text)):\n",
    "    _prepared_katasonova.append(prepare(katasonova_text[tweet]))"
   ]
  },
  {
   "cell_type": "code",
   "execution_count": 102,
   "metadata": {
    "collapsed": false
   },
   "outputs": [
    {
     "data": {
      "text/plain": [
       "[(0,\n",
       "  '-0.680*\"росс\" + -0.378*\"украин\" + -0.317*\"сша\" + -0.149*\"рф\" + -0.104*\"европ\" + -0.102*\"открыт\" + -0.098*\"угроз\" + -0.089*\"сборн\" + -0.088*\"нат\" + -0.087*\"москв\"'),\n",
       " (1,\n",
       "  '0.785*\"украин\" + -0.441*\"росс\" + 0.108*\"рф\" + -0.102*\"сша\" + 0.081*\"обсужда\" + 0.079*\"посольств\" + -0.077*\"открыт\" + 0.071*\"катасонов\" + 0.062*\"импичментпорошенк\" + 0.062*\"вопрос\"'),\n",
       " (2,\n",
       "  '0.414*\"родин\" + 0.342*\"катасонов\" + 0.335*\"парт\" + 0.315*\"кандидат\" + 0.296*\"депутат\" + 0.239*\"мар\" + 0.220*\"выбор\" + -0.212*\"украин\" + 0.210*\"москв\" + -0.163*\"росс\"'),\n",
       " (3,\n",
       "  '-0.733*\"добр\" + -0.577*\"утр\" + -0.220*\"котик\" + -0.146*\"хорош\" + -0.078*\"дня\" + 0.073*\"родин\" + -0.063*\"утречк\" + 0.058*\"парт\" + 0.054*\"депутат\" + 0.054*\"кандидат\"'),\n",
       " (4,\n",
       "  '-0.784*\"сша\" + 0.327*\"росс\" + 0.106*\"рф\" + -0.098*\"трамп\" + -0.094*\"crookedhillar\" + -0.083*\"президент\" + 0.081*\"депутат\" + 0.074*\"украин\" + 0.073*\"родин\" + 0.072*\"открыт\"')]"
      ]
     },
     "execution_count": 102,
     "metadata": {},
     "output_type": "execute_result"
    }
   ],
   "source": [
    "prepare_lda(_prepared_katasonova, 5)"
   ]
  },
  {
   "cell_type": "markdown",
   "metadata": {},
   "source": [
    "### Посмотрю баронову"
   ]
  },
  {
   "cell_type": "code",
   "execution_count": 57,
   "metadata": {
    "collapsed": false
   },
   "outputs": [],
   "source": [
    "baronova_text = []\n",
    "file = open('baronova_twitter.txt', 'r')\n",
    "rawdata = file.read()\n",
    "for decoded in iterparse(rawdata):\n",
    "    baronova_text.append(decoded['text'])\n",
    "_prepared_baronova = []\n",
    "for tweet in range(len(baronova_text)):\n",
    "    _prepared_baronova.append(prepare(baronova_text[tweet]))"
   ]
  },
  {
   "cell_type": "code",
   "execution_count": 59,
   "metadata": {
    "collapsed": false
   },
   "outputs": [
    {
     "data": {
      "text/plain": [
       "[(0,\n",
       "  '-0.879*\"баронов\" + -0.233*\"мар\" + -0.206*\"подпис\" + -0.200*\"штаб\" + -0.115*\"ца\" + -0.088*\"кандидат\" + -0.076*\"маш\" + -0.055*\"собра\" + -0.053*\"собира\" + -0.051*\"росс\"'),\n",
       " (1,\n",
       "  '-0.679*\"подпис\" + -0.422*\"росс\" + 0.253*\"баронов\" + -0.223*\"собира\" + -0.152*\"собра\" + -0.128*\"час\" + -0.116*\"вообщ\" + -0.106*\"стран\" + -0.095*\"выбор\" + -0.092*\"сбор\"'),\n",
       " (2,\n",
       "  '0.720*\"росс\" + -0.488*\"подпис\" + 0.132*\"дела\" + -0.129*\"собира\" + 0.118*\"открыт\" + 0.104*\"суд\" + -0.100*\"собра\" + -0.100*\"час\" + 0.089*\"един\" + 0.084*\"вообщ\"'),\n",
       " (3,\n",
       "  '-0.691*\"суд\" + -0.347*\"дела\" + 0.299*\"росс\" + -0.243*\"дел\" + -0.125*\"приговор\" + -0.096*\"прям\" + -0.095*\"уважа\" + -0.083*\"навальн\" + -0.076*\"лож\" + -0.075*\"написа\"')]"
      ]
     },
     "execution_count": 59,
     "metadata": {},
     "output_type": "execute_result"
    }
   ],
   "source": [
    "prepare_lda(_prepared_baronova, 4)"
   ]
  },
  {
   "cell_type": "markdown",
   "metadata": {},
   "source": [
    "### Гудков"
   ]
  },
  {
   "cell_type": "code",
   "execution_count": 60,
   "metadata": {
    "collapsed": false
   },
   "outputs": [],
   "source": [
    "gudkov_text = []\n",
    "file = open('gudkov_twitter.txt', 'r')\n",
    "rawdata = file.read()\n",
    "for decoded in iterparse(rawdata):\n",
    "    gudkov_text.append(decoded['text'])\n",
    "_prepared_gudkov = []\n",
    "for tweet in range(len(gudkov_text)):\n",
    "    _prepared_gudkov.append(prepare(gudkov_text[tweet]))"
   ]
  },
  {
   "cell_type": "code",
   "execution_count": 61,
   "metadata": {
    "collapsed": false
   },
   "outputs": [
    {
     "data": {
      "text/plain": [
       "[(0,\n",
       "  '0.928*\"дг\" + 0.153*\"немцовм\" + 0.107*\"дум\" + 0.097*\"закон\" + 0.080*\"росс\" + 0.073*\"нов\" + 0.068*\"встреч\" + 0.061*\"яров\" + 0.052*\"кампан\" + 0.045*\"москв\"'),\n",
       " (1,\n",
       "  '0.802*\"встреч\" + 0.222*\"кампан\" + 0.172*\"гудков\" + 0.159*\"приход\" + 0.145*\"штаб\" + -0.143*\"дг\" + 0.142*\"координатор\" + 0.141*\"дмитр\" + 0.140*\"нов\" + 0.115*\"предвыборн\"'),\n",
       " (2,\n",
       "  '0.578*\"кампан\" + -0.474*\"встреч\" + 0.268*\"гудков\" + 0.215*\"штаб\" + 0.214*\"координатор\" + 0.190*\"наш\" + 0.187*\"пост\" + 0.171*\"нов\" + 0.170*\"дмитр\" + 0.131*\"блог\"')]"
      ]
     },
     "execution_count": 61,
     "metadata": {},
     "output_type": "execute_result"
    }
   ],
   "source": [
    "prepare_lda(_prepared_gudkov, 3)"
   ]
  },
  {
   "cell_type": "markdown",
   "metadata": {},
   "source": [
    "### Результаты тематического моделирования\n",
    "Политики в основном пиарятся, не оставляя шанса на разбиение на темы.\n",
    "\n",
    "Способы улучшения:\n",
    "* Лемматизация вместо стемминга\n",
    "* Взять твиты за больший период -- разбить на более очевидные темы"
   ]
  },
  {
   "cell_type": "markdown",
   "metadata": {},
   "source": [
    "### Анализ тональности"
   ]
  },
  {
   "cell_type": "code",
   "execution_count": 160,
   "metadata": {
    "collapsed": true
   },
   "outputs": [],
   "source": [
    "import json\n",
    "from sklearn.cross_validation import cross_val_score\n",
    "from sklearn.ensemble import RandomForestClassifier\n",
    "from sklearn.feature_extraction.text import TfidfVectorizer\n",
    "from sklearn.linear_model import SGDClassifier\n",
    "from sklearn.linear_model import LogisticRegression\n",
    "from sklearn.preprocessing import LabelEncoder"
   ]
  },
  {
   "cell_type": "code",
   "execution_count": 114,
   "metadata": {
    "collapsed": true
   },
   "outputs": [],
   "source": [
    "nms = ['id'\n",
    ",'tdate'\n",
    ",'tname'\n",
    ",'ttext'\n",
    ",'ttype'\n",
    ",'trep'\n",
    ", 'trtw'\n",
    ",'tfav'\n",
    ",'tstcount'\n",
    ",'tfol'\n",
    ",'tfrien'\n",
    ",'listcount']\n",
    "test_neg = pd.read_csv('negative.csv',sep=';',names=nms)\n",
    "test_pos = pd.read_csv('positive.csv', sep=';', names=nms)"
   ]
  },
  {
   "cell_type": "code",
   "execution_count": 132,
   "metadata": {
    "collapsed": true
   },
   "outputs": [],
   "source": [
    "full_corpus = test_neg.append(test_pos)"
   ]
  },
  {
   "cell_type": "code",
   "execution_count": 500,
   "metadata": {
    "collapsed": false
   },
   "outputs": [],
   "source": [
    "_prep_data = list(full_corpus.ttext)\n",
    "for i in range(len(_prep_data)):\n",
    "    _prep_data[i] = prepare(_prep_data[i])"
   ]
  },
  {
   "cell_type": "code",
   "execution_count": 501,
   "metadata": {
    "collapsed": false
   },
   "outputs": [
    {
     "data": {
      "text/plain": [
       "'на работе был полный пиддес :| и так каждое закрытие месяца, я же свихнусь так d:'"
      ]
     },
     "execution_count": 501,
     "metadata": {},
     "output_type": "execute_result"
    }
   ],
   "source": [
    "_prep_data[0]"
   ]
  },
  {
   "cell_type": "code",
   "execution_count": 494,
   "metadata": {
    "collapsed": false
   },
   "outputs": [],
   "source": [
    "_y_train = full_corpus.ttype\n",
    "\n",
    "vectorizer = TfidfVectorizer(analyzer='char_wb', ngram_range =(1,2), stop_words='english')\n",
    "_X_train = vectorizer.fit_transform(_prep_data)"
   ]
  },
  {
   "cell_type": "code",
   "execution_count": 495,
   "metadata": {
    "collapsed": true
   },
   "outputs": [],
   "source": [
    "clf = SGDClassifier(penalty='l1', n_jobs=-1, loss='log')"
   ]
  },
  {
   "cell_type": "code",
   "execution_count": 496,
   "metadata": {
    "collapsed": true
   },
   "outputs": [],
   "source": [
    "from sklearn.cross_validation import train_test_split"
   ]
  },
  {
   "cell_type": "code",
   "execution_count": 155,
   "metadata": {
    "collapsed": false
   },
   "outputs": [
    {
     "data": {
      "text/plain": [
       "0.99884497833646468"
      ]
     },
     "execution_count": 155,
     "metadata": {},
     "output_type": "execute_result"
    }
   ],
   "source": [
    "cvscore = cross_val_score(clf,_X_train,_y_train,cv=10)\n",
    "cvscore.mean()"
   ]
  },
  {
   "cell_type": "code",
   "execution_count": 156,
   "metadata": {
    "collapsed": false
   },
   "outputs": [
    {
     "data": {
      "text/plain": [
       "SGDClassifier(alpha=0.0001, average=False, class_weight=None, epsilon=0.1,\n",
       "       eta0=0.0, fit_intercept=True, l1_ratio=0.15,\n",
       "       learning_rate='optimal', loss='log', n_iter=5, n_jobs=3,\n",
       "       penalty='l1', power_t=0.5, random_state=None, shuffle=True,\n",
       "       verbose=0, warm_start=False)"
      ]
     },
     "execution_count": 156,
     "metadata": {},
     "output_type": "execute_result"
    }
   ],
   "source": [
    "clf.fit(_X_train, _y_train)"
   ]
  },
  {
   "cell_type": "code",
   "execution_count": 157,
   "metadata": {
    "collapsed": true
   },
   "outputs": [],
   "source": [
    "gudkov_X = vectorizer.transform(_prepared_gudkov)"
   ]
  },
  {
   "cell_type": "code",
   "execution_count": 159,
   "metadata": {
    "collapsed": false
   },
   "outputs": [],
   "source": [
    "gudkov_sent = clf.predict_proba(gudkov_X)"
   ]
  },
  {
   "cell_type": "code",
   "execution_count": 168,
   "metadata": {
    "collapsed": false
   },
   "outputs": [
    {
     "name": "stdout",
     "output_type": "stream",
     "text": [
      "0.610314598587\n"
     ]
    }
   ],
   "source": [
    "print(gudkov_sent[1][0])"
   ]
  },
  {
   "cell_type": "code",
   "execution_count": 173,
   "metadata": {
    "collapsed": false
   },
   "outputs": [
    {
     "name": "stdout",
     "output_type": "stream",
     "text": [
      ": мэрия ножиком разрезала стенд гудкова о_о:: Proba if NEG >>>> 0.921653703811\n",
      "к сожалению, кашин прав(:: Proba if NEG >>>> 0.999840192004\n",
      ":      :: Proba if NEG >>>> 0.873738172369\n",
      ": съезд яблока вот. но закрытый, не могу вести трансляцию :(:: Proba if NEG >>>> 0.997876777343\n",
      " почему-то отключились(:: Proba if NEG >>>> 0.999898841015\n",
      "увы, в финал выходим не мы(:: Proba if NEG >>>> 0.999437938844\n",
      "эх, 3:1. проигрываем(:: Proba if NEG >>>> 0.999347049672\n",
      " неа(:: Proba if NEG >>>> 0.999999997584\n",
      " потому что простыл(:: Proba if NEG >>>> 0.99998029795\n",
      "в южном тушине у нас пока не очень много сторонников :( \n",
      "если вы живете в этом районе, регистрируйтесь на gudkov.ru:: Proba if NEG >>>> 0.945200264818\n",
      "::: Proba if NEG >>>> 0.873738172369\n",
      "нет слов(. ночью умер друг нашей семьи, замечательный человек, достойный и честный политик валерий зубов. rip дг:: Proba if NEG >>>> 0.859735976991\n"
     ]
    }
   ],
   "source": [
    "for t in range(len(_prepared_gudkov)):\n",
    "    if gudkov_sent[t][0] > 0.80:\n",
    "        print(_prepared_gudkov[t] + ':: Probability if NEG >>>> ' + str(gudkov_sent[t][0]))"
   ]
  },
  {
   "cell_type": "code",
   "execution_count": 174,
   "metadata": {
    "collapsed": false
   },
   "outputs": [
    {
     "name": "stdout",
     "output_type": "stream",
     "text": [
      " ничего):: Proba if POS >>>> 1.39632283513e-09\n",
      " я такого не видел):: Proba if POS >>>> 4.27878611975e-06\n",
      " обязательно):: Proba if POS >>>> 3.81006111771e-07\n",
      "сегодня у меня выходной. не считая эфира на эхо москвы в 19:00.  смотрит, как ваня и саша играют в футбол):: Proba if POS >>>> 0.0690543420765\n",
      "когда у тебя еще нет права голоса, но уже есть любимый кандидат :):: Proba if POS >>>> 0.00419397512752\n",
      " вот это точно сложно для двора):: Proba if POS >>>> 0.000441072131071\n",
      ": вот тут можно в реальном времени смотреть новые фотки со встреч гудкова. быстрее чем их видит начальник штаба :):: Proba if POS >>>> 0.042049838239\n",
      " 2 только. хочу поднабрать):: Proba if POS >>>> 0.000112500672985\n",
      "@ это калории):: Proba if POS >>>> 9.38838126763e-06\n",
      "кто с утра в спортзале, тот я):: Proba if POS >>>> 0.000498803546332\n",
      "смешно) дмитрий гудков vs зомбоящик   via  а ведь скоро твц так меня и покажет.:: Proba if POS >>>> 0.0325676880702\n",
      "прикол в том, что это сказал пенсионер) “: узнал на встрече  что медведев косноязычен, как покемон”:: Proba if POS >>>> 0.0536673768188\n",
      ": волонтёры приходят помогать. это вот в хорошёво-мнёвниках сегодня, жукова 18. приходите и вы :):: Proba if POS >>>> 0.0319566588404\n",
      ": на складе сегодня собирали новые стенды. у нас новый цвет :):: Proba if POS >>>> 0.00497695045383\n",
      " dgudkov.ru.com:: Proba if POS >>>> 0.121796787504\n",
      "_: впервые зашел в штаб  вечером. и кажется, что пик активности здесь как раз часов в 9 вечера):: Proba if POS >>>> 0.0550011999401\n",
      " стараюсь):: Proba if POS >>>> 4.55484027162e-08\n",
      ":  done:: Proba if POS >>>> 0.129489384858\n",
      " спасибо):: Proba if POS >>>> 1.62798403647e-08\n",
      " ок):: Proba if POS >>>> 1.51678225535e-10\n",
      ": на октябрьском поле, агитируют за   ! :):: Proba if POS >>>> 0.000709094583516\n",
      "и угнал у меня бутылку воды)  “: на днях на встречу пришёл племянник ильи варламова ”:: Proba if POS >>>> 0.0438555083224\n",
      "завершил 99 встречу, готовлюсь перевалить за сотню! 100-я встреча, видимо, пройдет под дождем):: Proba if POS >>>> 0.0389244012425\n",
      "скоро начинаем 5 встречу, которая без предварительной подготовки. у метро строгино. рядом с магазином бетховен. если рядом, подходите!):: Proba if POS >>>> 0.0735007924232\n",
      "на 1 встрече в щукино встретил николая сванидзе. он гулял рядом  с собакой):: Proba if POS >>>> 0.0202770784968\n",
      "спасибо большое! “:  уговорили) удачи, дмитрий! ”:: Proba if POS >>>> 0.00812492240946\n",
      ": сегодня дмитрий пришел на встречу с семьей :) :: Proba if POS >>>> 0.00138316644595\n",
      ": чят, у нас тут интересно, делаем хорошее дело и много платим тем, кто хорошо работает. приходите :):: Proba if POS >>>> 0.0303533284511\n",
      " вау!):: Proba if POS >>>> 2.48634559608e-08\n",
      " смешно):: Proba if POS >>>> 1.62482729493e-08\n",
      "спасибо большое! “: я помог кампании  и  - . верю в победу и надеюсь на открытку :)”:: Proba if POS >>>> 0.109158493691\n",
      " щукино, строгино, хм, митино, южное тушино, покровское-стрешнево - это же штаты америки):: Proba if POS >>>> 0.0380882985446\n",
      " спасибо за фотку):: Proba if POS >>>> 1.14160753363e-05\n",
      " жена):: Proba if POS >>>> 6.12212502915e-11\n",
      " это супруга сделала такую прическу. дочь тоже большая, 16 лет):: Proba if POS >>>> 0.00963296123547\n",
      "пришел домой, а тут такое):: Proba if POS >>>> 8.48371646942e-05\n",
      ": организовал сегодня первую встречу с дмитрием! собрал 44 контакта. даже на сцене выступил :) :: Proba if POS >>>> 0.0216964610299\n",
      "_: на встрече  с избирателями замечен ).\n",
      "\n",
      "ждем репортаж в новой).:: Proba if POS >>>> 0.00807402183571\n",
      " спасибо большое!):: Proba if POS >>>> 1.06692099117e-05\n",
      ": закинул  патронов на избирательную компанию в госдуму. независимую политику надо финансировать! :):: Proba if POS >>>> 0.0208537837919\n",
      " чуть позже):: Proba if POS >>>> 7.57096283999e-07\n",
      ": приехала моя мама, инспектирует подготовку встречи и стенды  :):: Proba if POS >>>> 0.00344993572134\n",
      " ок):: Proba if POS >>>> 1.51678225535e-10\n",
      " стараюсь!):: Proba if POS >>>> 1.67440915466e-07\n",
      " спасибо!):: Proba if POS >>>> 1.06238517317e-07\n",
      " ):: Proba if POS >>>> 2.22044604925e-16\n",
      " у нас 2 в штабе):: Proba if POS >>>> 5.11620231913e-05\n",
      " стараюсь):: Proba if POS >>>> 4.55484027162e-08\n",
      " во вторник):: Proba if POS >>>> 4.12367111791e-07\n",
      " ок):: Proba if POS >>>> 1.51678225535e-10\n",
      " скоро будет):: Proba if POS >>>> 1.05131603201e-07\n",
      " dgudkov.ru.com:: Proba if POS >>>> 0.121796787504\n",
      " ага, но все ок):: Proba if POS >>>> 5.58071790568e-06\n",
      " даже не заметил):: Proba if POS >>>> 2.72429257664e-06\n",
      " спасибо вам!):: Proba if POS >>>> 9.79644172672e-07\n",
      " это тойота камри):: Proba if POS >>>> 2.12623938576e-05\n",
      " это помойка, а не сайт):: Proba if POS >>>> 7.21659869554e-05\n",
      " ага):: Proba if POS >>>> 8.55422399582e-10\n",
      "у меня плохие новости для игоря ивановича сечина. upd: тест на чувство юмора прошли не все):: Proba if POS >>>> 0.0186007018655\n",
      "у меня плохие новости для игоря ивановича сечина. nintendo (компания с игрой про покемонов) стоит дороже «роснефти».:: Proba if POS >>>> 0.197322132873\n",
      ": запустили мобильную версию нашей супермегасистемы . координаторы довольны :):: Proba if POS >>>> 0.00758050801373\n",
      "юбилей. тысячный звонок на предвыборной кампании. под аккомпанемент рояля) а вы давно говорили со своим депутатом?:: Proba if POS >>>> 0.0550751906161\n",
      "вчера начали обживать помещение предвыборного штаба в щукино. раньше там был ресторан «кипяток» :):: Proba if POS >>>> 0.022660858041\n",
      "в нашем штабе включили горячую воду. ура!):: Proba if POS >>>> 0.00175840725647\n",
      "полторы тысячи сторонников в сзао! посмотрите карту на gudkov.ru , может, ваш сосед уже зарегистрировался :):: Proba if POS >>>> 0.01827160054\n",
      ": . внезапно встретил его в ленте фейсбука, хоть мы и не знакомы :):: Proba if POS >>>> 0.00800823708474\n",
      "коалиция демократов становится ширше!) точнее, ширее!):: Proba if POS >>>> 2.42390282128e-05\n",
      "узнал от каца, что мне предстоит 360 встреч до 18 сентября):: Proba if POS >>>> 0.0146303838769\n",
      "всем привет! селфи со съезда):: Proba if POS >>>> 0.000781924690633\n",
      "угадайте, кто со мной):: Proba if POS >>>> 4.93515053849e-05\n",
      " конечно):: Proba if POS >>>> 5.89870641221e-09\n",
      "ведем набор в команду. бросайте душные офисы, пойдёмте выборы выигрывать :):: Proba if POS >>>> 0.0096333729252\n",
      "@_ ок):: Proba if POS >>>> 2.17460404506e-06\n",
      ": дождь нам не помеха :):: Proba if POS >>>> 2.53046306219e-05\n",
      "федор впервые вышел в поле и взял два контакта за полчаса. а поначалу не хотел выходить без опытного напарника :):: Proba if POS >>>> 0.0390050700202\n",
      ": встреча выпускников, заметил у входа  ):: Proba if POS >>>> 0.00100714350689\n",
      ": чят! смотрите что у нас теперь есть :) дневник кампании гудкова:: Proba if POS >>>> 0.00534428229438\n",
      "на сайте появился долгожданный раздел «о кандидате». (будет пополняться):: Proba if POS >>>> 0.183303259545\n",
      ": схантила сторонника пока аня проводит собеседование :):: Proba if POS >>>> 0.00156995870842\n",
      " да я бы с радостью начал, только не я решения в стране принимаю. пока, надеюсь;):: Proba if POS >>>> 0.0226599935441\n",
      " да ладно):: Proba if POS >>>> 1.19603337234e-08\n",
      " вы от имени всех россиян говорите?):: Proba if POS >>>> 0.000614774197609\n",
      ": очень весело в щтабе (@ предвыборный штаб дмитрия гудкова):: Proba if POS >>>> 0.163273106229\n",
      "какие прогнозы на хоккейный матч?):: Proba if POS >>>> 0.0013397841929\n",
      " это уже не мой округ):: Proba if POS >>>> 6.59460954426e-05\n",
      "браво цска):: Proba if POS >>>> 4.65964099372e-06\n",
      "@ уже!):: Proba if POS >>>> 9.99282909531e-07\n",
      "лера  даже в коломенском районе подмосковья продолжает борьбу за прямые выборы мэра в нижнем новгороде;) дг:: Proba if POS >>>> 0.0520284367142\n",
      " это из вашей партии ни один не был, а я регулярно бываю. и в нн, и в дзержинске, и в чкаловске):: Proba if POS >>>> 0.0600155553261\n",
      " ок) спасибо:: Proba if POS >>>> 5.16899374969e-07\n",
      "привезли нашу первую листовку ^_^:: Proba if POS >>>> 0.106881568598\n",
      " денис, поздравляю) дг:: Proba if POS >>>> 0.000132966667346\n",
      " так присылайте на почту обращение, что нужно dgudkov.ru.com:: Proba if POS >>>> 0.179009735148\n",
      " спасибо) дг:: Proba if POS >>>> 2.38095106309e-06\n",
      "через 30 мин, в 18:00, смотрите меня на  в программе “говорите с юлией таратутой”. говорить будем, как я понял, про выборы) дг:: Proba if POS >>>> 0.0966601031897\n",
      " ахаха) дг:: Proba if POS >>>> 1.17618391764e-05\n",
      " уже 50 звонков за 1,5 часа. и еще 100 в плане на сегодня. а куртка легкая, как пиджак) дг:: Proba if POS >>>> 0.0627439643694\n",
      "вот еще одно фото via “: кандидат вот звонит сторонникам :) на  ”:: Proba if POS >>>> 0.0123292260182\n",
      " присылайте всю информацию в обращении на dgudkov.ru.com:: Proba if POS >>>> 0.182970249646\n",
      " он вражеский fb не читает) дг:: Proba if POS >>>> 0.00141737356776\n",
      " зарегистрируйтесь на gudkov.ru, и мы вас завербуем ):: Proba if POS >>>> 0.00436368693122\n",
      " еще дг):: Proba if POS >>>> 2.38121271157e-06\n",
      " слово “впервые” понравилось):: Proba if POS >>>> 0.00200177100266\n",
      " отлично):: Proba if POS >>>> 3.32517704482e-08\n",
      ": друзья,приехал помогать . но пребывание тут под угрозой из-за жилья. ищу: комнату, угол, койкоместо, место=) h…:: Proba if POS >>>> 0.0812730659536\n",
      " видел):: Proba if POS >>>> 4.916196783e-09\n",
      " ого):: Proba if POS >>>> 1.04765085496e-11\n",
      " ну или так):: Proba if POS >>>> 2.13569876339e-07\n",
      ": позвонил . он избирается в госдуму от нашего округа и лично обзванивает всех активистов) это очень круто, есть ещё…:: Proba if POS >>>> 0.0773918247001\n",
      ": чят, завтра встреча со мной и с дмитрием гудковым. записывайтесь и приходите :) пообщаемся:: Proba if POS >>>> 0.0190867748333\n",
      " он со мной судился):: Proba if POS >>>> 2.09252343266e-05\n",
      "  конечно!):: Proba if POS >>>> 5.41347875416e-08\n",
      " спасибо, регистрируйтесь на gudkov.ru. всем будет дело):: Proba if POS >>>> 0.00533063838566\n",
      "он так признает вредным для здоровья чтение рбк) “:  на рбк идет голосование вы или онищенко. у вас пока 70 %.”:: Proba if POS >>>> 0.090143312594\n",
      ": встречаемся с координаторами вот. приходите работать в штаб гудкова, лучшая работа в мире :)  https://…:: Proba if POS >>>> 0.0396738904764\n",
      "еще один оппонент нарисовался. будет весело) “: о!!!!  онищенко, говорят, будет у нас оппонентом”:: Proba if POS >>>> 0.057492905591\n",
      " присылайте обращение с деталями на dgudkov.ru.com:: Proba if POS >>>> 0.163568635162\n",
      " ира, с днем рождения!):: Proba if POS >>>> 2.18869185247e-05\n",
      " ой, они с нами!) лере передам, спасибо:: Proba if POS >>>> 0.000791891468421\n",
      "нашелся мой тезка с офшором на виргинских островах) “:  не знал что вы ковбой из техаса ) ”:: Proba if POS >>>> 0.00141170041491\n",
      " все ок):: Proba if POS >>>> 1.08326384529e-08\n",
      " спасибо. будем знать!) тяжело быть придворным журналистом:: Proba if POS >>>> 0.00369408498754\n",
      " ничего подобного не приходило. dgudkov.ru.com:: Proba if POS >>>> 0.161632663454\n",
      "крутые встречи с россиянами в вашингтоне. и дикие люди из россии дорвались до сыра):: Proba if POS >>>> 0.0306858625357\n",
      ": на сайте гудкова зарегистрировалось уже 338 волонтёров из округа. присоединяйтесь и вы :):: Proba if POS >>>> 0.021079166789\n",
      "установил новый ios, теперь не все ссылки в сафари открываются. это только у меня?):: Proba if POS >>>> 0.0275211931983\n",
      " расскажем чуть позже, регистрируйтесь!):: Proba if POS >>>> 0.000657336010012\n",
      " позвонит!):: Proba if POS >>>> 1.85238027695e-07\n",
      " регистрируйтесь на сайте, потом сообщим!):: Proba if POS >>>> 0.00104635471984\n",
      "лучший заголовок, я считаю):: Proba if POS >>>> 0.000183653639918\n",
      " ну, главное не “завела младенца от гудковых” :):: Proba if POS >>>> 0.00331487495771\n",
      " а мне кажется, что наоборот, катя сделала интервью про человека, а не политика. программа тут - перегруз):: Proba if POS >>>> 0.047937884593\n",
      " так вот у вас кормят. никакого уважения к депутатам):: Proba if POS >>>> 0.00458324436144\n",
      " посмотрите декларации их, многие владельцы акций крупных предприятий (это не запрещено):: Proba if POS >>>> 0.193951071307\n",
      " ага):: Proba if POS >>>> 8.55422399582e-10\n"
     ]
    }
   ],
   "source": [
    "for t in range(len(_prepared_gudkov)):\n",
    "    if gudkov_sent[t][1] > 0.80:\n",
    "        print(_prepared_gudkov[t] + ':: Proba if POS >>>> ' + str(gudkov_sent[t][0]))"
   ]
  },
  {
   "cell_type": "markdown",
   "metadata": {},
   "source": [
    "### Проверим на катасоновой"
   ]
  },
  {
   "cell_type": "code",
   "execution_count": 175,
   "metadata": {
    "collapsed": true
   },
   "outputs": [],
   "source": [
    "katasonova_X= vectorizer.transform(_prepared_katasonova)\n",
    "katasonova_sent = clf.predict_proba(katasonova_X)"
   ]
  },
  {
   "cell_type": "code",
   "execution_count": 187,
   "metadata": {
    "collapsed": false
   },
   "outputs": [
    {
     "name": "stdout",
     "output_type": "stream",
     "text": [
      "давайте предложим профессору темы поинтереснее...\n",
      "\n",
      "сша-игил?\n",
      "\n",
      "политическая коррупция-crookedhillary?:: NEUTRAL >>>> 0.584484806241\n",
      "неделю назад wada удалило письмо родченкова из отчёта макларена, на основании которого сегодня отстранили российских паралимпийцев.:: NEUTRAL >>>> 0.576272980624\n",
      "мы в тельняшках 🌞:: NEUTRAL >>>> 0.40921836601\n",
      "agents of the kremlin:\n",
      "crookedhillary vs :: NEUTRAL >>>> 0.520470007867\n",
      "«пришли, увидели, он умер»\n",
      "stophillary crookedhillary:: NEUTRAL >>>> 0.575693345606\n",
      ": the washington post calls out crookedhillary for what she really is. a pathological liar! watch that nose grow! https…:: NEUTRAL >>>> 0.442866184105\n",
      ": star of the day: . goonmaria:: NEUTRAL >>>> 0.519140577291\n",
      ": maria, shouldnt you be campaigning in russia &amp; not wasting time campaigning in our elections? vybor u vas skoro!:: NEUTRAL >>>> 0.44496894334\n",
      ": wow! pro-putin candidate for russian parliament planning to protest against  at us embassy\n",
      "\n",
      " \n",
      "http…:: NEUTRAL >>>> 0.540266449902\n",
      ": check it out. pro-putin candidate for russian parliament planning to protest against  @ us embassy:: NEUTRAL >>>> 0.522919210154\n",
      "«7 грехов хиллари клинтон»\n",
      "stophillary crookedhillary \n",
      "обращение к американскому народу...:: NEUTRAL >>>> 0.552940528311\n",
      ": russian nationalists against hillary demo in moscow tomorrow:: NEUTRAL >>>> 0.475463266731\n",
      "i perform tomorrow stophillary action near the us embassy in moscow. \n",
      "14:00 \n",
      "bolshoy devyatinskiy per.,8:: NEUTRAL >>>> 0.482560185749\n",
      ": провожу завтра акцию stophillary у посольства сша в москве.\n",
      "14:00\n",
      "большой девятинский пер., 8\n",
      "crookedhillary https://…:: NEUTRAL >>>> 0.508072634379\n",
      "провожу завтра акцию stophillary у посольства сша в москве.\n",
      "14:00\n",
      "большой девятинский пер., 8\n",
      "crookedhillary:: NEUTRAL >>>> 0.542036504233\n",
      ": . says it's the voice of canada’s ukrainian community. \n",
      "what about nazi collaborators in their ranks? h…:: NEUTRAL >>>> 0.44859121828\n",
      ": canadian media acknowledges there is corruption in ukraine. only took two years to notice!  ht…:: NEUTRAL >>>> 0.597016797881\n",
      "более 200 чел.(56 детей),погибли за несколько дней от авиаобстрелов зап.коалиции в сирии::: NEUTRAL >>>> 0.439211162121\n",
      " захотелось спать:: NEUTRAL >>>> 0.41208729173\n",
      "в тренде безумия\n",
      "spiegel:немец.спецслужбы увидели\"руку кремля\"в действиях хакеров иг\n",
      "guardian:росс.хулиганы на euro2016 связаны с кремлём.:: NEUTRAL >>>> 0.532529283405\n",
      "dwn: сша потратят 350млрд на ядерную гонку с россией.\n",
      "\n",
      "но агрессор и угроза по-прежнему россия. смотри не перепутай.:: NEUTRAL >>>> 0.538087031478\n",
      "украина променяла парад великой победы на парад пидор*сов.\n",
      "\n",
      "бедная, бедная украина. что же с тобою стало...:: NEUTRAL >>>> 0.448036696043\n",
      "захарченко заявлил, что спецслужбы украины планировали ликвидацию савченко в донбассе:: NEUTRAL >>>> 0.400139122187\n",
      "этот волшебный запах летнего дождя 🤗:: NEUTRAL >>>> 0.404238942531\n",
      "твиттер захвачен ?:: NEUTRAL >>>> 0.407566338296\n",
      ": fin.times: \"многие члены нато опасаются усиления военного присутствия россии на черном море, у порога нато\"(!). а моск.…:: NEUTRAL >>>> 0.4389982761\n",
      "согласно списку пентагона в мире более 865 военных баз сша(+афганистан и ирак).это 95% иностр.военн.баз во всем мире:: NEUTRAL >>>> 0.441445730949\n",
      "charlie hebdo опубликовал карикатуру о евровидении: \"талант уступил политике\".\n",
      "ахахах, кто там же суи шарли?:: NEUTRAL >>>> 0.523328163368\n",
      "die welt:се может отказаться от рф.\n",
      "\"европа готова защищать принципы, над кот. рф издевается не только в се\"\n",
      "смешно:: NEUTRAL >>>> 0.564622707009\n",
      "тем временем в военкоматах сша:: NEUTRAL >>>> 0.404713615087\n",
      "изготовление компактной водородной бомбы на уроках труда:: NEUTRAL >>>> 0.402291601992\n",
      "этот день победы порохом пропах.\n",
      "это праздник с сединой на висках!\n",
      "это радость со слезами на глазах\n",
      "деньпобеды:: NEUTRAL >>>> 0.403082862731\n",
      "на лабутенах:: NEUTRAL >>>> 0.41378917022\n"
     ]
    }
   ],
   "source": [
    "for t in range(len(_prepared_katasonova)):\n",
    "    if katasonova_sent[t][1]  > 0.4 and katasonova_sent[t][1] < 0.6:\n",
    "        print(_prepared_katasonova[t] + ':: NEUTRAL >>>> ' + str(katasonova_sent[t][1]))"
   ]
  },
  {
   "cell_type": "markdown",
   "metadata": {},
   "source": [
    "### Plotly работает, поизучать как, нафигчать графики красиво"
   ]
  },
  {
   "cell_type": "code",
   "execution_count": 21,
   "metadata": {
    "collapsed": false
   },
   "outputs": [],
   "source": [
    "import plotly \n",
    "plotly.tools.set_credentials_file(username=\"marannan\", api_key=\"qj21u6pmzw\")\n",
    "# (username='Houston_Martinez', api_key='h4m618t5st')\n"
   ]
  },
  {
   "cell_type": "code",
   "execution_count": 22,
   "metadata": {
    "collapsed": true
   },
   "outputs": [],
   "source": [
    "import plotly.plotly as py\n",
    "from plotly.graph_objs import *\n",
    "from collections import Counter\n",
    "import plotly.plotly as py\n",
    "import plotly.graph_objs as go"
   ]
  },
  {
   "cell_type": "markdown",
   "metadata": {},
   "source": [
    "### Посмотрим, кому отвечает катасонова"
   ]
  },
  {
   "cell_type": "markdown",
   "metadata": {},
   "source": [
    "### А Баронова?"
   ]
  },
  {
   "cell_type": "code",
   "execution_count": 23,
   "metadata": {
    "collapsed": true
   },
   "outputs": [],
   "source": [
    "def visual_top_10(tweet_corpus, tweet_nick):\n",
    "    interlocutor = []\n",
    "    for t in range(len(tweet_corpus)):\n",
    "        pattern = re.compile(r'@([A-Za-z0-9_]+)')\n",
    "        if len(pattern.findall(tweet_corpus[t])) > 0:\n",
    "            for tt in range(len(pattern.findall(tweet_corpus[t]))):\n",
    "                interlocutor.append(pattern.findall(tweet_corpus[t])[tt])\n",
    "    _names = []\n",
    "    _val_names = []\n",
    "    intcol = Counter(interlocutor)\n",
    "    for k, v in intcol.most_common(11):\n",
    "        if k == tweet_nick:\n",
    "            continue\n",
    "        else:\n",
    "            _names.append(k)\n",
    "            _val_names.append(v)\n",
    "#             print(k,v)\n",
    "    data = [go.Bar(\n",
    "                x= _val_names,\n",
    "                y= _names,\n",
    "                orientation = 'h'\n",
    "    )]\n",
    "\n",
    "    return py.iplot(data, filename='horizontal-bar')"
   ]
  },
  {
   "cell_type": "code",
   "execution_count": 24,
   "metadata": {
    "collapsed": false
   },
   "outputs": [
    {
     "data": {
      "text/html": [
       "<iframe id=\"igraph\" scrolling=\"no\" style=\"border:none;\" seamless=\"seamless\" src=\"https://plot.ly/~marannan/231.embed\" height=\"525px\" width=\"100%\"></iframe>"
      ],
      "text/plain": [
       "<plotly.tools.PlotlyDisplay object>"
      ]
     },
     "execution_count": 24,
     "metadata": {},
     "output_type": "execute_result"
    }
   ],
   "source": [
    "visual_top_10(katasonova_text, 'KatasonovaMaria')"
   ]
  },
  {
   "cell_type": "code",
   "execution_count": 25,
   "metadata": {
    "collapsed": false
   },
   "outputs": [
    {
     "data": {
      "text/html": [
       "<iframe id=\"igraph\" scrolling=\"no\" style=\"border:none;\" seamless=\"seamless\" src=\"https://plot.ly/~marannan/231.embed\" height=\"525px\" width=\"100%\"></iframe>"
      ],
      "text/plain": [
       "<plotly.tools.PlotlyDisplay object>"
      ]
     },
     "execution_count": 25,
     "metadata": {},
     "output_type": "execute_result"
    }
   ],
   "source": [
    "visual_top_10(baronova_text, 'ponny1')"
   ]
  },
  {
   "cell_type": "code",
   "execution_count": 26,
   "metadata": {
    "collapsed": false
   },
   "outputs": [
    {
     "data": {
      "text/html": [
       "<iframe id=\"igraph\" scrolling=\"no\" style=\"border:none;\" seamless=\"seamless\" src=\"https://plot.ly/~marannan/231.embed\" height=\"525px\" width=\"100%\"></iframe>"
      ],
      "text/plain": [
       "<plotly.tools.PlotlyDisplay object>"
      ]
     },
     "execution_count": 26,
     "metadata": {},
     "output_type": "execute_result"
    }
   ],
   "source": [
    "visual_top_10(gudkov_text, 'gudkovd')"
   ]
  },
  {
   "cell_type": "code",
   "execution_count": 27,
   "metadata": {
    "collapsed": false
   },
   "outputs": [
    {
     "data": {
      "text/plain": [
       "(1797, 2000, 1200)"
      ]
     },
     "execution_count": 27,
     "metadata": {},
     "output_type": "execute_result"
    }
   ],
   "source": [
    "#Еще такой график зафигчать небольшой:\n",
    "\n",
    "len(baronova_text), len(gudkov_text), len(katasonova_text)"
   ]
  },
  {
   "cell_type": "code",
   "execution_count": 28,
   "metadata": {
    "collapsed": false
   },
   "outputs": [
    {
     "data": {
      "text/plain": [
       "'Thu Mar 10 11:41:13 +0000 2016'"
      ]
     },
     "execution_count": 28,
     "metadata": {},
     "output_type": "execute_result"
    }
   ],
   "source": [
    "decoded['created_at']"
   ]
  },
  {
   "cell_type": "code",
   "execution_count": 29,
   "metadata": {
    "collapsed": false
   },
   "outputs": [
    {
     "data": {
      "text/plain": [
       "'11'"
      ]
     },
     "execution_count": 29,
     "metadata": {},
     "output_type": "execute_result"
    }
   ],
   "source": [
    "datetime.datetime.strptime(decoded['created_at'],\"%a %b %d %H:%M:%S +0000 %Y\").strftime('%H')"
   ]
  },
  {
   "cell_type": "code",
   "execution_count": 30,
   "metadata": {
    "collapsed": false
   },
   "outputs": [],
   "source": [
    "def top_day_of_week(person):\n",
    "    person_day = []\n",
    "    file = open(str(person) + '_twitter.txt', 'r')\n",
    "    rawdata = file.read()\n",
    "    for decoded in iterparse(rawdata):\n",
    "        person_day.append(datetime.datetime.strptime(decoded['created_at'],\n",
    "                                                         \"%a %b %d %H:%M:%S +0000 %Y\").strftime('%A'))\n",
    "    weekday = []\n",
    "    cont_day = []\n",
    "    for k, v in Counter(person_day).most_common():\n",
    "        weekday.append(k)\n",
    "        cont_day.append(v)\n",
    "    trace0 = go.Bar(\n",
    "        x=weekday,\n",
    "        y=cont_day,\n",
    "        marker=dict(\n",
    "            color=['rgb(32, 214, 93)', 'rgba(204,204,204,1)', 'rgba(204,204,204,1)',\n",
    "                   'rgba(204,204,204,1)', 'rgba(204,204,204,1)',\n",
    "                   'rgba(204,204,204,1)', 'rgba(222,45,38,0.8)']),\n",
    "    )\n",
    "\n",
    "    data = [trace0]\n",
    "    layout = go.Layout(\n",
    "        title='Days of the week',\n",
    "    )\n",
    "\n",
    "    fig = go.Figure(data=data, layout=layout)\n",
    "    return py.iplot(fig, filename='color-bar')"
   ]
  },
  {
   "cell_type": "code",
   "execution_count": 31,
   "metadata": {
    "collapsed": false
   },
   "outputs": [
    {
     "data": {
      "text/html": [
       "<iframe id=\"igraph\" scrolling=\"no\" style=\"border:none;\" seamless=\"seamless\" src=\"https://plot.ly/~marannan/229.embed\" height=\"525px\" width=\"100%\"></iframe>"
      ],
      "text/plain": [
       "<plotly.tools.PlotlyDisplay object>"
      ]
     },
     "execution_count": 31,
     "metadata": {},
     "output_type": "execute_result"
    }
   ],
   "source": [
    "top_day_of_week('gudkov')"
   ]
  },
  {
   "cell_type": "code",
   "execution_count": 49,
   "metadata": {
    "collapsed": false
   },
   "outputs": [
    {
     "data": {
      "text/html": [
       "<iframe id=\"igraph\" scrolling=\"no\" style=\"border:none;\" seamless=\"seamless\" src=\"https://plot.ly/~marannan/229.embed\" height=\"525px\" width=\"100%\"></iframe>"
      ],
      "text/plain": [
       "<plotly.tools.PlotlyDisplay object>"
      ]
     },
     "execution_count": 49,
     "metadata": {},
     "output_type": "execute_result"
    }
   ],
   "source": [
    "top_day_of_week('baronova')"
   ]
  },
  {
   "cell_type": "code",
   "execution_count": 50,
   "metadata": {
    "collapsed": false
   },
   "outputs": [
    {
     "data": {
      "text/html": [
       "<iframe id=\"igraph\" scrolling=\"no\" style=\"border:none;\" seamless=\"seamless\" src=\"https://plot.ly/~marannan/229.embed\" height=\"525px\" width=\"100%\"></iframe>"
      ],
      "text/plain": [
       "<plotly.tools.PlotlyDisplay object>"
      ]
     },
     "execution_count": 50,
     "metadata": {},
     "output_type": "execute_result"
    }
   ],
   "source": [
    "top_day_of_week('katasonova')"
   ]
  },
  {
   "cell_type": "code",
   "execution_count": 32,
   "metadata": {
    "collapsed": false
   },
   "outputs": [],
   "source": [
    "def top_time_of_day(person):\n",
    "    person_day = []\n",
    "    file = open(str(person) + '_twitter.txt', 'r')\n",
    "    rawdata = file.read()\n",
    "    for decoded in iterparse(rawdata):\n",
    "        person_day.append(datetime.datetime.strptime(decoded['created_at'],\n",
    "                                                         \"%a %b %d %H:%M:%S +0000 %Y\").strftime('%H'))\n",
    "    weekday = []\n",
    "    cont_day = []\n",
    "    for k, v in Counter(person_day).most_common():\n",
    "        weekday.append(k)\n",
    "        cont_day.append(v)\n",
    "#     Размечаю цвета\n",
    "    color2 = []\n",
    "    for i in range(len(weekday)):\n",
    "        if i == 0:\n",
    "            color2.append('rgb(32, 214, 93)')\n",
    "        elif i == (len(weekday)-1):\n",
    "            color2.append('rgba(222,45,38,0.8)')\n",
    "        else:\n",
    "            color2.append('rgba(204,204,204,1)')\n",
    "    trace0 = go.Bar(\n",
    "        x=weekday,\n",
    "        y=cont_day,\n",
    "        marker=dict(\n",
    "            color = color2),\n",
    "#             color=['rgb(32, 214, 93)', 'rgba(204,204,204,1)', 'rgba(204,204,204,1)',\n",
    "#                    'rgba(204,204,204,1)', 'rgba(204,204,204,1)',\n",
    "#                    'rgba(204,204,204,1)', 'rgba(222,45,38,0.8)']),\n",
    "        )\n",
    "\n",
    "    data = [trace0]\n",
    "    layout = go.Layout(\n",
    "        title='Times of Day',\n",
    "    )\n",
    "\n",
    "    fig = go.Figure(data=data, layout=layout)\n",
    "    return py.iplot(fig, filename='color-bar')"
   ]
  },
  {
   "cell_type": "code",
   "execution_count": 33,
   "metadata": {
    "collapsed": false
   },
   "outputs": [
    {
     "data": {
      "text/html": [
       "<iframe id=\"igraph\" scrolling=\"no\" style=\"border:none;\" seamless=\"seamless\" src=\"https://plot.ly/~marannan/229.embed\" height=\"525px\" width=\"100%\"></iframe>"
      ],
      "text/plain": [
       "<plotly.tools.PlotlyDisplay object>"
      ]
     },
     "execution_count": 33,
     "metadata": {},
     "output_type": "execute_result"
    }
   ],
   "source": [
    "top_time_of_day('baronova')"
   ]
  },
  {
   "cell_type": "code",
   "execution_count": 51,
   "metadata": {
    "collapsed": false
   },
   "outputs": [
    {
     "data": {
      "text/html": [
       "<iframe id=\"igraph\" scrolling=\"no\" style=\"border:none;\" seamless=\"seamless\" src=\"https://plot.ly/~marannan/229.embed\" height=\"525px\" width=\"100%\"></iframe>"
      ],
      "text/plain": [
       "<plotly.tools.PlotlyDisplay object>"
      ]
     },
     "execution_count": 51,
     "metadata": {},
     "output_type": "execute_result"
    }
   ],
   "source": [
    "top_time_of_day('katasonova')"
   ]
  },
  {
   "cell_type": "code",
   "execution_count": 52,
   "metadata": {
    "collapsed": false
   },
   "outputs": [
    {
     "data": {
      "text/html": [
       "<iframe id=\"igraph\" scrolling=\"no\" style=\"border:none;\" seamless=\"seamless\" src=\"https://plot.ly/~marannan/229.embed\" height=\"525px\" width=\"100%\"></iframe>"
      ],
      "text/plain": [
       "<plotly.tools.PlotlyDisplay object>"
      ]
     },
     "execution_count": 52,
     "metadata": {},
     "output_type": "execute_result"
    }
   ],
   "source": [
    "top_time_of_day('gudkov')"
   ]
  },
  {
   "cell_type": "code",
   "execution_count": 44,
   "metadata": {
    "collapsed": false,
    "scrolled": true
   },
   "outputs": [],
   "source": [
    "def mean_month(person):\n",
    "    person_month = []\n",
    "    p_for_mean = []\n",
    "    file = open(str(person) + '_twitter.txt', 'r')\n",
    "    rawdata = file.read()\n",
    "    for decoded in iterparse(rawdata):\n",
    "        person_month.append(datetime.datetime.strptime(decoded['created_at'],\n",
    "                                                         \"%a %b %d %H:%M:%S +0000 %Y\").strftime('%b'))\n",
    "        p_for_mean.append(datetime.datetime.strptime(decoded['created_at'],\n",
    "                                                     \"%a %b %d %H:%M:%S +0000 %Y\").strftime('%b, %d'))\n",
    "    month = []\n",
    "    cont_day = []\n",
    "    _m =[]\n",
    "    _cnt = []\n",
    "    for k, v in Counter(person_month).most_common():\n",
    "        month.append(k)\n",
    "        cont_day.append(v)\n",
    "    for k1, v2 in Counter(p_for_mean).most_common():\n",
    "        _m.append(k1)\n",
    "        _cnt.append(v2)\n",
    "    _cnt = np.mean(_cnt)\n",
    "    _z0 = [_cnt] * len(month)\n",
    "    \n",
    "#     _dm = []\n",
    "#     _month_mean = []\n",
    "#     for j in range(len(_m)):\n",
    "#         if set(set(_m[j]) & set(month)) == set():\n",
    "#             _dm.append(_cnt[j])\n",
    "#         else:\n",
    "#             _month_mean.append(sum(_dm)/len(_dm))\n",
    "    \n",
    "    \n",
    "    #     Размечаю цвета\n",
    "    color2 = []\n",
    "    for i in range(len(month)):\n",
    "        if i == 0:\n",
    "            color2.append('rgb(32, 214, 93)')\n",
    "        elif i == (len(month)-1):\n",
    "            color2.append('rgba(222,45,38,0.8)')\n",
    "        else:\n",
    "            color2.append('rgba(204,204,204,1)')\n",
    "    trace0 = go.Bar(\n",
    "        x=month,\n",
    "        y=cont_day,\n",
    "        marker=dict(\n",
    "            color = color2),\n",
    "        )\n",
    "    trace1 = go.Scatter(\n",
    "        x = month,\n",
    "        y = _z0,\n",
    "        marker = dict(color=['rgb(24, 24, 24)']),\n",
    "        line = dict(dash='dot'))\n",
    "    \n",
    "#     trace2 = go.Scatter(\n",
    "#         x = month,\n",
    "#         y = _month_mean,\n",
    "#         marker = dict(color=['rgb(24, 24, 24)']),\n",
    "#         line=dict(color='rgba(223,247,0,1)'))\n",
    "    \n",
    "    data = [trace0, trace1\n",
    "#             , trace2\n",
    "           ]\n",
    "    layout = go.Layout(\n",
    "        title='Month',\n",
    "    )\n",
    "\n",
    "    fig = go.Figure(data=data, layout=layout)\n",
    "    return py.iplot(fig, filename='color-bar')"
   ]
  },
  {
   "cell_type": "code",
   "execution_count": 55,
   "metadata": {
    "collapsed": false
   },
   "outputs": [
    {
     "data": {
      "text/html": [
       "<iframe id=\"igraph\" scrolling=\"no\" style=\"border:none;\" seamless=\"seamless\" src=\"https://plot.ly/~marannan/229.embed\" height=\"525px\" width=\"100%\"></iframe>"
      ],
      "text/plain": [
       "<plotly.tools.PlotlyDisplay object>"
      ]
     },
     "execution_count": 55,
     "metadata": {},
     "output_type": "execute_result"
    }
   ],
   "source": [
    "mean_month('baronova')"
   ]
  },
  {
   "cell_type": "code",
   "execution_count": null,
   "metadata": {
    "collapsed": false
   },
   "outputs": [],
   "source": [
    "_mes = datetime.datetime.strptime(decoded['created_at'],\n",
    "                                                         \"%a %b %d %H:%M:%S +0000 %Y\").strftime('%b')"
   ]
  },
  {
   "cell_type": "code",
   "execution_count": 476,
   "metadata": {
    "collapsed": false
   },
   "outputs": [
    {
     "data": {
      "text/plain": [
       "False"
      ]
     },
     "execution_count": 476,
     "metadata": {},
     "output_type": "execute_result"
    }
   ],
   "source": [
    "set(set('Sep, 23') & set(_mes)) != set()"
   ]
  },
  {
   "cell_type": "markdown",
   "metadata": {
    "collapsed": true
   },
   "source": [
    "##### Frequency from searched tweets"
   ]
  },
  {
   "cell_type": "code",
   "execution_count": 42,
   "metadata": {
    "collapsed": false
   },
   "outputs": [],
   "source": [
    "_names = []\n",
    "_val_names = []\n",
    "def get_mentions(corpus):\n",
    "    corpus_list = []\n",
    "    file = open(str(corpus), 'r')\n",
    "    rawdata = file.read()\n",
    "    for decoded in iterparse(rawdata):\n",
    "        corpus_list.append(prepare(decoded['text']))\n",
    "    intcol = Counter(corpus_list)\n",
    "    rnames  = intcol.most_common(11)[1:11]\n",
    "    for k, v in intcol.most_common(11):\n",
    "            _names.append(k)\n",
    "            _val_names.append(v)\n",
    "            print(k,v)\n",
    "    print(\"===============================================================\")        \n",
    "    print(str(\"ALL TWEETS ABOUT PERSON: \") + str(len(corpus_list)))"
   ]
  },
  {
   "cell_type": "code",
   "execution_count": 82,
   "metadata": {
    "collapsed": false
   },
   "outputs": [
    {
     "name": "stdout",
     "output_type": "stream",
     "text": [
      ": оппа-оппа! на нтв очередное разоблачение «друзей ходорковского». на кадрах угадывается наша любименькая баронова.. 417\n",
      ": завтра на нтв разоблачение «друзей ходорковского» и его \"открытой россии\". там и баронова есть... 39\n",
      ": баронова про крым, зубова и другие вопросы, интересующие аудиторию эха. 27\n",
      ": про \"спойлерство\": баронова в цао на 3 месяца раньше, собрала подписи, узнаваемость 26% против 12%.  привет всем. 23\n",
      ": маркетолог - уровень бог. баронова, бери на вооружение! 23\n",
      ": кандидат под n мария баронова: экономические свободы, личные свободы, жизнь и здоровье.. 12\n",
      ": баронова оскверняет улицы москвы.. 11\n",
      ": пиздец, какая клевая свежая баронова (особенно про попов)!!! скорее читайте! 9\n",
      ": елена котова о том, почему марьям баронова – её кандидат. 9\n",
      ": баронова постит фотографии с плакатами. один плакат - возле мечети. протестует против обрезания женщин. второй -... ://… 8\n",
      ": мария баронова (maria baronova) продолжает свой неравный бой с тенью. 7\n",
      "===============================================================\n",
      "ALL TWEETS ABOUT PERSON: 893\n"
     ]
    }
   ],
   "source": [
    "get_mentions('bar_0709_data.json')"
   ]
  },
  {
   "cell_type": "code",
   "execution_count": 145,
   "metadata": {
    "collapsed": false
   },
   "outputs": [
    {
     "name": "stdout",
     "output_type": "stream",
     "text": [
      ": донецк. донецк сити проходит показ мод. за столиками депутаты, элита, и даже гости из москвы.\n",
      "например катасонова 23\n",
      ": мария катасонова: весь этот цирк 21\n",
      ": катасонова мощно прыгнула на либералов..  ставлю в копию  20\n",
      ": катасонова заставит зубова разлюбить гитлера 14\n",
      ": когда выбирали нынешнего президента сша, маша катасонова стояла с плакатом \"маккейн - война. обама - мир\". 12\n",
      ": катасонова народ в обиду не даст! голосуй за \"родину\", сука! 11\n",
      ": катасонова своим вырезом прямо-таки напрашивается на новость в рпж, но я держусь. 6\n",
      "мнения: мария катасонова: весь этот цирк 4\n",
      ": катасонова идеальный последователь сталинизма и палачей нквд - доносики строчит\n",
      "а зубов - абсолютно прав! разделяю! :… 4\n",
      ": если за трампа агитирует катасонова, то значит в кремле страшно боятся хиллари клинтон 3\n",
      "мария катасонова: б***ский цирк, а не русский «майдан». 3\n",
      "===============================================================\n",
      "ALL TWEETS ABOUT PERSON: 295\n"
     ]
    }
   ],
   "source": [
    "get_mentions('kat_0709_data.json')"
   ]
  },
  {
   "cell_type": "code",
   "execution_count": 43,
   "metadata": {
    "collapsed": false
   },
   "outputs": [
    {
     "name": "stdout",
     "output_type": "stream",
     "text": [
      ": за 2015 год дмитрий гудков заработал почти 5 миллионов рублей, но деньги на избирательную компанию просит у народа. htt… 63\n",
      ": молодой, перспективный политик дмитрий гудков, наверняка против протекционизма и семейственной клановости в политике. да. на… 57\n",
      ": д.гудков и ж.немцова - в рубрике молодые гении, добившиеся всего сами, или как придти к успеху без помощи родителей. :/… 32\n",
      ": дмитрий гудков  в немцоваинтервью: яровая предательски поступила. подробности - 16\n",
      ": геннадий гудков, это... 14\n",
      ": нормально так димасик гудков отстроился 12\n",
      ": дмитрий гудков в немцоваинтервью: ни о каких честных выборах говорить не приходится \n",
      "еще:  :/… 11\n",
      ": бывший депутат гд - г.гудков, обращается к электорату с призывом голосовать за действующего депутата гд - д.гудкова :/… 10\n",
      "геннадий гудков: банкет «единой россии» за бюджетный счёт 8\n",
      ": лев гудков: список «иностранных агентов» будет только расти 5\n",
      ": а вот подписи каких единороссов брал кандидат гена гудков, шедший под лозунгом борьбы с коррупцией  5\n",
      "===============================================================\n",
      "ALL TWEETS ABOUT PERSON: 399\n"
     ]
    }
   ],
   "source": [
    "get_mentions('gud_0709_data.json')"
   ]
  },
  {
   "cell_type": "code",
   "execution_count": null,
   "metadata": {
    "collapsed": true
   },
   "outputs": [],
   "source": []
  }
 ],
 "metadata": {
  "kernelspec": {
   "display_name": "Python 3",
   "language": "python",
   "name": "python3"
  },
  "language_info": {
   "codemirror_mode": {
    "name": "ipython",
    "version": 3
   },
   "file_extension": ".py",
   "mimetype": "text/x-python",
   "name": "python",
   "nbconvert_exporter": "python",
   "pygments_lexer": "ipython3",
   "version": "3.4.3"
  }
 },
 "nbformat": 4,
 "nbformat_minor": 0
}
